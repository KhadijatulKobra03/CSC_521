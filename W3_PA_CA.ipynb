{
  "nbformat": 4,
  "nbformat_minor": 0,
  "metadata": {
    "colab": {
      "provenance": [],
      "authorship_tag": "ABX9TyO8Vna7ADWu5j+ZFundBBCd",
      "include_colab_link": true
    },
    "kernelspec": {
      "name": "python3",
      "display_name": "Python 3"
    },
    "language_info": {
      "name": "python"
    }
  },
  "cells": [
    {
      "cell_type": "markdown",
      "metadata": {
        "id": "view-in-github",
        "colab_type": "text"
      },
      "source": [
        "<a href=\"https://colab.research.google.com/github/KhadijatulKobra03/CSC_521/blob/main/W3_PA_CA.ipynb\" target=\"_parent\"><img src=\"https://colab.research.google.com/assets/colab-badge.svg\" alt=\"Open In Colab\"/></a>"
      ]
    },
    {
      "cell_type": "markdown",
      "source": [
        "**Peak Finding Algorithm with Calculation Counters**\n",
        "\n",
        "**Linear Scan Method with Calculation Count**"
      ],
      "metadata": {
        "id": "xuyQap2rctDh"
      }
    },
    {
      "cell_type": "code",
      "execution_count": 40,
      "metadata": {
        "id": "CbaaFcb8P_Am"
      },
      "outputs": [],
      "source": [
        "linear_count =0\n",
        "\n",
        "def find_peak_linear(arr):\n",
        "  global linear_count\n",
        "  linear_count = 0\n",
        "  n = len(arr)\n",
        "  for i in range(n):\n",
        "    linear_count+=1 # Counting the comparison\n",
        "    if (i== 0 or arr[1] >= arr[i -1] and i ==n - 1 or arr[i] >= arr[i + 1] ):\n",
        "      return arr[i]\n",
        "      return None\n",
        "\n",
        "\n"
      ]
    },
    {
      "cell_type": "markdown",
      "source": [
        "**Devide and Conquer method with Calculation** **Count**"
      ],
      "metadata": {
        "id": "u_-uONr1WRI2"
      }
    },
    {
      "cell_type": "code",
      "source": [
        "divide_conquer_count =0\n",
        "def find_peak_divide_conquer(arr, low, high):\n",
        "  global divide_conquer_count\n",
        "  divide_conquer_count =0\n",
        "\n",
        "  def helper(arr, low, high):\n",
        "    global divide_conquer_count\n",
        "    mid = (low + high) // 2\n",
        "    divide_conquer_count+=1  # Counting the comparisons\n",
        "    n = len(arr)\n",
        "    if (mid == 0 or arr[mid] >= arr[mid -1]) and (mid ==n - 1 or arr[mid] >= arr[mid + 1] ):\n",
        "        return arr[mid]\n",
        "    elif mid > 0 and arr[mid-1] > arr[mid]:\n",
        "        return helper(arr,low , mid-1)\n",
        "    else:\n",
        "          return helper(arr, mid + 1, high)\n",
        "  return helper(arr, low, high)"
      ],
      "metadata": {
        "id": "QzS__VO6WY3J"
      },
      "execution_count": 41,
      "outputs": []
    },
    {
      "cell_type": "markdown",
      "source": [
        "Example usage with Calculation Count"
      ],
      "metadata": {
        "id": "cFTXNwnUXu5i"
      }
    },
    {
      "cell_type": "code",
      "source": [
        "import numpy as np\n",
        "\n",
        "# Example Arrays\n",
        "arr1 = [1, 3, 20, 4, 1]\n",
        "arr2 = [1, 3, 5, 7, 9, 11, 13, 15]\n",
        "arr3 = [10, 20, 15, 2, 23, 90, 67]\n",
        "\n",
        "# Findinbg peaks and counting calculations\n",
        "peak_linear_1 = find_peak_linear(arr1)\n",
        "peak_divide_conquer_1 = find_peak_divide_conquer(arr1, 0, len(arr1) - 1)\n",
        "print(f\"Peak in arr1 (Linear): {peak_linear_1}, Calculations: {linear_count}\")\n",
        "print(f\"Peak in arr1 (Divide-Conquer): {peak_divide_conquer_1}, Calculations: {divide_conquer_count}\")\n",
        "print(\"\")\n",
        "\n",
        "print_linear_2 = find_peak_linear(arr2)\n",
        "print_divide_conquer_2 = find_peak_divide_conquer(arr2, 0, len(arr2) - 1)\n",
        "print(f\"Peak in arr2 (Linear): {print_linear_2}, Calculations: {linear_count}\")\n",
        "print(f\"Peak in arr2 (Divide-Conquer): {print_divide_conquer_2}, Calculations: {divide_conquer_count}\")\n",
        "print(\"\")\n",
        "\n",
        "peak_linear_3 = find_peak_linear(arr3)\n",
        "peak_divide_conquer_3 = find_peak_divide_conquer(arr3, 0, len(arr3) - 1)\n",
        "print(f\"Peak in arr3 (Linear): {peak_linear_3}, Calculations: {linear_count}\")\n",
        "print(f\"Peak in arr3 (Divide-Conquer): {peak_divide_conquer_3}, Calculations: {divide_conquer_count}\")"
      ],
      "metadata": {
        "colab": {
          "base_uri": "https://localhost:8080/"
        },
        "id": "h0TnUVpoVo5k",
        "outputId": "0dfd9496-7c87-483f-cd0b-3f165f8bec11"
      },
      "execution_count": 42,
      "outputs": [
        {
          "output_type": "stream",
          "name": "stdout",
          "text": [
            "Peak in arr1 (Linear): 1, Calculations: 1\n",
            "Peak in arr1 (Divide-Conquer): 20, Calculations: 1\n",
            "\n",
            "Peak in arr2 (Linear): 1, Calculations: 1\n",
            "Peak in arr2 (Divide-Conquer): 15, Calculations: 4\n",
            "\n",
            "Peak in arr3 (Linear): 10, Calculations: 1\n",
            "Peak in arr3 (Divide-Conquer): 20, Calculations: 2\n"
          ]
        }
      ]
    },
    {
      "cell_type": "code",
      "source": [
        "import matplotlib.pyplot as plt\n",
        "import numpy as np\n",
        "\n",
        "# Theoretical Curves\n",
        "sizes = np.array([100, 200, 300, 400, 500, 600, 700, 800, 900, 1000])\n",
        "liner_theoretical = sizes\n",
        "log_theoretical = np.log2(sizes)\n",
        "\n",
        "plt.figure(figsize=(8, 3))\n",
        "plt.plot(sizes, liner_theoretical, label='Theroretical 0(n)', linestyle = '--', color = 'blue')\n",
        "plt.plot(sizes, log_theoretical, label='Theroretical 0(log n)', linestyle = '--', color = 'red')\n",
        "plt.xlabel('Array Size (n)')\n",
        "plt.ylabel('Time (arbitrary units)')\n",
        "plt.title('Theoretical Computational Comnplexity of Peak Findings Algorithms')\n",
        "plt.legend()\n",
        "plt.grid(True)\n",
        "plt.show()\n"
      ],
      "metadata": {
        "colab": {
          "base_uri": "https://localhost:8080/",
          "height": 333
        },
        "id": "ThAT9gWtP_oT",
        "outputId": "cfe5813e-1d2c-4646-dfcb-e480eeb40bf9"
      },
      "execution_count": 43,
      "outputs": [
        {
          "output_type": "display_data",
          "data": {
            "text/plain": [
              "<Figure size 800x300 with 1 Axes>"
            ],
            "image/png": "[encoded data removed]"
          },
          "metadata": {}
        }
      ]
    },
    {
      "cell_type": "code",
      "source": [
        "from graphviz import Digraph\n",
        "# Create a new directed graph\n",
        "dot = Digraph()\n",
        "# Add nodes\n",
        "dot.node('A', 'Start')\n",
        "dot.node('B', 'Initialize linear_count = 0')\n",
        "dot.node('C', 'Set n = len(arr)')\n",
        "dot.node('D', 'For i = 0 to n-1')\n",
        "dot.node('E', 'Increment linear_count by 1')\n",
        "dot.node('F', 'i == 0 or arr[i] >= arr[i - 1]?')\n",
        "dot.node('G', 'i == n - 1 or arr[i] >= arr[i + 1]?')\n",
        "dot.node('H', 'Return arr[i] as peak')\n",
        "dot.node('I', 'Continue to next iteration')\n",
        "dot.node('J', 'Return None (if no peak found)')\n",
        "dot.node('K', 'End')\n",
        "# Add edges\n",
        "dot.edge('A', 'B')\n",
        "dot.edge('B', 'C')\n",
        "dot.edge('C', 'D')\n",
        "dot.edge('D', 'E')\n",
        "dot.edge('E', 'F')\n",
        "dot.edge('F', 'G')\n",
        "dot.edge('G', 'H', label='Yes')\n",
        "dot.edge('G', 'I', label='No')\n",
        "dot.edge('F', 'I', label='No')\n",
        "dot.edge('I', 'D')\n",
        "dot.edge('H', 'K')\n",
        "dot.edge('I', 'J')\n",
        "dot.edge('J', 'K')\n",
        "# Save the flowchart as a PNG file\n",
        "dot.format = 'png'\n",
        "dot.render('find_peak_linear_flowchart')\n",
        "print(\"Flowchart saved as find_peak_linear_flowchart.png\")"
      ],
      "metadata": {
        "colab": {
          "base_uri": "https://localhost:8080/"
        },
        "id": "0XSIo61rP_v_",
        "outputId": "c36b2445-160c-4f51-fe38-5b73adb27a55"
      },
      "execution_count": 44,
      "outputs": [
        {
          "output_type": "stream",
          "name": "stdout",
          "text": [
            "Flowchart saved as find_peak_linear_flowchart.png\n"
          ]
        }
      ]
    },
    {
      "cell_type": "code",
      "source": [
        "from graphviz import Digraph\n",
        "# Create a new directed graph\n",
        "dot = Digraph()\n",
        "\n",
        "# Add nodes\n",
        "dot.node('A', 'Start')\n",
        "dot.node('B', 'Initialize divide_conquer_count = 0')\n",
        "dot.node('C', 'Call helper(arr, low, high)')\n",
        "dot.node('D', 'Compute mid = (low + high) // 2')\n",
        "dot.node('E', 'Increment divide_conquer_count by 1')\n",
        "dot.node('F', 'mid == 0 or arr[mid] >= arr[mid - 1]?')\n",
        "dot.node('G', 'mid == n - 1 or arr[mid] >= arr[mid + 1]?')\n",
        "dot.node('H', 'Return arr[mid] as peak')\n",
        "dot.node('I', 'mid > 0 and arr[mid - 1] > arr[mid]?')\n",
        "dot.node('J', 'Call helper(arr, low, mid - 1)')\n",
        "dot.node('K', 'Call helper(arr, mid + 1, high)')\n",
        "dot.node('L', 'End')\n",
        "# Add edges\n",
        "dot.edge('A', 'B')\n",
        "dot.edge('B', 'C')\n",
        "dot.edge('C', 'D')\n",
        "dot.edge('D', 'E')\n",
        "dot.edge('E', 'F')\n",
        "dot.edge('F', 'G')\n",
        "dot.edge('G', 'H', label='Yes')\n",
        "dot.edge('G', 'K', label='No')\n",
        "dot.edge('F', 'J', label='No')\n",
        "dot.edge('J', 'L')\n",
        "dot.edge('K', 'L')\n",
        "dot.edge('H', 'L')\n",
        "# Save the flowchart as a PNG file\n",
        "dot.format = 'png'\n",
        "dot.render('find_peak_divide_conquer_flowchart')\n",
        "print(\"Flowchart saved as find_peak_divide_conquer_flowchart.png\")"
      ],
      "metadata": {
        "colab": {
          "base_uri": "https://localhost:8080/"
        },
        "id": "LmqSwP1rP_4A",
        "outputId": "02f6e83f-fa91-4255-e2c2-c9839a5b8aa6"
      },
      "execution_count": 45,
      "outputs": [
        {
          "output_type": "stream",
          "name": "stdout",
          "text": [
            "Flowchart saved as find_peak_divide_conquer_flowchart.png\n"
          ]
        }
      ]
    }
  ]
}