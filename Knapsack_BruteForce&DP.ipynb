{
  "nbformat": 4,
  "nbformat_minor": 0,
  "metadata": {
    "colab": {
      "provenance": [],
      "authorship_tag": "ABX9TyM1Zpzw00lSPMyM/xLXFv01",
      "include_colab_link": true
    },
    "kernelspec": {
      "name": "python3",
      "display_name": "Python 3"
    },
    "language_info": {
      "name": "python"
    }
  },
  "cells": [
    {
      "cell_type": "markdown",
      "metadata": {
        "id": "view-in-github",
        "colab_type": "text"
      },
      "source": [
        "<a href=\"https://colab.research.google.com/github/KhadijatulKobra03/CSC_521/blob/main/Knapsack_BruteForce%26DP.ipynb\" target=\"_parent\"><img src=\"https://colab.research.google.com/assets/colab-badge.svg\" alt=\"Open In Colab\"/></a>"
      ]
    },
    {
      "cell_type": "code",
      "execution_count": 2,
      "metadata": {
        "colab": {
          "base_uri": "https://localhost:8080/"
        },
        "id": "yzDWP15En5wl",
        "outputId": "147555ba-ad5d-4115-cee4-83115ca63c7b"
      },
      "outputs": [
        {
          "output_type": "stream",
          "name": "stdout",
          "text": [
            "=== Brute-force Solution ===\n",
            "Maximum value that can be carried: 200\n",
            "The Knapsack Items (1-based indices): [1, 2, 3, 4, 5, 6]\n",
            "\n"
          ]
        }
      ],
      "source": [
        "import itertools\n",
        "import numpy as np\n",
        "\n",
        "# Define weights, values, and maximum capacity\n",
        "weights = [1, 2, 3, 2, 5, 4]\n",
        "values  = [10, 15, 40, 25, 60, 50]\n",
        "W = 75  # Maximum weight capacity\n",
        "n = len(weights)\n",
        "\n",
        "# ==============================\n",
        "# Brute-force solution\n",
        "# ==============================\n",
        "max_value_bf = 0\n",
        "best_combination_bf = []\n",
        "\n",
        "# Generate all possible subsets of items\n",
        "for r in range(1, n+1):\n",
        "    for subset in itertools.combinations(range(n), r):\n",
        "        total_weight = sum(weights[i] for i in subset)\n",
        "        total_value  = sum(values[i] for i in subset)\n",
        "        if total_weight <= W and total_value > max_value_bf:\n",
        "            max_value_bf = total_value\n",
        "            best_combination_bf = subset\n",
        "\n",
        "print(\"=== Brute-force Solution ===\")\n",
        "print(f\"Maximum value that can be carried: {max_value_bf}\")\n",
        "print(f\"The Knapsack Items (1-based indices): {[i+1 for i in best_combination_bf]}\\n\")\n",
        "\n",
        "\n"
      ]
    },
    {
      "cell_type": "code",
      "source": [
        "# ==============================\n",
        "# Dynamic Programming solution\n",
        "# ==============================\n",
        "def knapsack_dp(weights, values, W):\n",
        "    n = len(weights)\n",
        "    dp = [[0 for _ in range(W + 1)] for _ in range(n + 1)]\n",
        "\n",
        "    # Fill the DP table\n",
        "    for i in range(1, n + 1):\n",
        "        for w in range(1, W + 1):\n",
        "            if weights[i - 1] <= w:\n",
        "                dp[i][w] = max(dp[i - 1][w],\n",
        "                               dp[i - 1][w - weights[i - 1]] + values[i - 1])\n",
        "            else:\n",
        "                dp[i][w] = dp[i - 1][w]\n",
        "\n",
        "    # Backtrack to find selected items\n",
        "    selected_items = []\n",
        "    w = W\n",
        "    for i in range(n, 0, -1):\n",
        "        if dp[i][w] != dp[i - 1][w]:\n",
        "            selected_items.append(i)\n",
        "            w -= weights[i - 1]\n",
        "\n",
        "    return dp[n][W], selected_items, dp\n",
        "\n",
        "max_value_dp, selected_items_dp, dp_table = knapsack_dp(weights, values, W)\n",
        "\n",
        "print(\"=== Dynamic Programming Solution ===\")\n",
        "print(f\"Maximum value that can be carried: {max_value_dp}\")\n",
        "print(f\"The Knapsack Items (1-based indices): {selected_items_dp[::-1]}\")\n",
        "\n",
        "print(\"\\nDynamic Programming Table:\")\n",
        "for row in dp_table:\n",
        "    print(row)"
      ],
      "metadata": {
        "colab": {
          "base_uri": "https://localhost:8080/"
        },
        "id": "3-zIPSMxoQGx",
        "outputId": "7771bad5-c819-41c0-cb54-7612a9d6f643"
      },
      "execution_count": 3,
      "outputs": [
        {
          "output_type": "stream",
          "name": "stdout",
          "text": [
            "=== Dynamic Programming Solution ===\n",
            "Maximum value that can be carried: 200\n",
            "The Knapsack Items (1-based indices): [1, 2, 3, 4, 5, 6]\n",
            "\n",
            "Dynamic Programming Table:\n",
            "[0, 0, 0, 0, 0, 0, 0, 0, 0, 0, 0, 0, 0, 0, 0, 0, 0, 0, 0, 0, 0, 0, 0, 0, 0, 0, 0, 0, 0, 0, 0, 0, 0, 0, 0, 0, 0, 0, 0, 0, 0, 0, 0, 0, 0, 0, 0, 0, 0, 0, 0, 0, 0, 0, 0, 0, 0, 0, 0, 0, 0, 0, 0, 0, 0, 0, 0, 0, 0, 0, 0, 0, 0, 0, 0, 0]\n",
            "[0, 10, 10, 10, 10, 10, 10, 10, 10, 10, 10, 10, 10, 10, 10, 10, 10, 10, 10, 10, 10, 10, 10, 10, 10, 10, 10, 10, 10, 10, 10, 10, 10, 10, 10, 10, 10, 10, 10, 10, 10, 10, 10, 10, 10, 10, 10, 10, 10, 10, 10, 10, 10, 10, 10, 10, 10, 10, 10, 10, 10, 10, 10, 10, 10, 10, 10, 10, 10, 10, 10, 10, 10, 10, 10, 10]\n",
            "[0, 10, 15, 25, 25, 25, 25, 25, 25, 25, 25, 25, 25, 25, 25, 25, 25, 25, 25, 25, 25, 25, 25, 25, 25, 25, 25, 25, 25, 25, 25, 25, 25, 25, 25, 25, 25, 25, 25, 25, 25, 25, 25, 25, 25, 25, 25, 25, 25, 25, 25, 25, 25, 25, 25, 25, 25, 25, 25, 25, 25, 25, 25, 25, 25, 25, 25, 25, 25, 25, 25, 25, 25, 25, 25, 25]\n",
            "[0, 10, 15, 40, 50, 55, 65, 65, 65, 65, 65, 65, 65, 65, 65, 65, 65, 65, 65, 65, 65, 65, 65, 65, 65, 65, 65, 65, 65, 65, 65, 65, 65, 65, 65, 65, 65, 65, 65, 65, 65, 65, 65, 65, 65, 65, 65, 65, 65, 65, 65, 65, 65, 65, 65, 65, 65, 65, 65, 65, 65, 65, 65, 65, 65, 65, 65, 65, 65, 65, 65, 65, 65, 65, 65, 65]\n",
            "[0, 10, 25, 40, 50, 65, 75, 80, 90, 90, 90, 90, 90, 90, 90, 90, 90, 90, 90, 90, 90, 90, 90, 90, 90, 90, 90, 90, 90, 90, 90, 90, 90, 90, 90, 90, 90, 90, 90, 90, 90, 90, 90, 90, 90, 90, 90, 90, 90, 90, 90, 90, 90, 90, 90, 90, 90, 90, 90, 90, 90, 90, 90, 90, 90, 90, 90, 90, 90, 90, 90, 90, 90, 90, 90, 90]\n",
            "[0, 10, 25, 40, 50, 65, 75, 85, 100, 110, 125, 135, 140, 150, 150, 150, 150, 150, 150, 150, 150, 150, 150, 150, 150, 150, 150, 150, 150, 150, 150, 150, 150, 150, 150, 150, 150, 150, 150, 150, 150, 150, 150, 150, 150, 150, 150, 150, 150, 150, 150, 150, 150, 150, 150, 150, 150, 150, 150, 150, 150, 150, 150, 150, 150, 150, 150, 150, 150, 150, 150, 150, 150, 150, 150, 150]\n",
            "[0, 10, 25, 40, 50, 65, 75, 90, 100, 115, 125, 135, 150, 160, 175, 185, 190, 200, 200, 200, 200, 200, 200, 200, 200, 200, 200, 200, 200, 200, 200, 200, 200, 200, 200, 200, 200, 200, 200, 200, 200, 200, 200, 200, 200, 200, 200, 200, 200, 200, 200, 200, 200, 200, 200, 200, 200, 200, 200, 200, 200, 200, 200, 200, 200, 200, 200, 200, 200, 200, 200, 200, 200, 200, 200, 200]\n"
          ]
        }
      ]
    }
  ]
}