{
  "nbformat": 4,
  "nbformat_minor": 0,
  "metadata": {
    "colab": {
      "provenance": [],
      "authorship_tag": "ABX9TyNSp4esv0vndL9xA3IkZ+N2",
      "include_colab_link": true
    },
    "kernelspec": {
      "name": "python3",
      "display_name": "Python 3"
    },
    "language_info": {
      "name": "python"
    }
  },
  "cells": [
    {
      "cell_type": "markdown",
      "metadata": {
        "id": "view-in-github",
        "colab_type": "text"
      },
      "source": [
        "<a href=\"https://colab.research.google.com/github/KhadijatulKobra03/CSC_521/blob/main/TSP_using_the_nearest_neighbor_heuristic.ipynb\" target=\"_parent\"><img src=\"https://colab.research.google.com/assets/colab-badge.svg\" alt=\"Open In Colab\"/></a>"
      ]
    },
    {
      "cell_type": "code",
      "execution_count": 2,
      "metadata": {
        "colab": {
          "base_uri": "https://localhost:8080/"
        },
        "id": "mCdKtS-vo0kB",
        "outputId": "1c896891-850b-489c-c246-1256afbb0f7e"
      },
      "outputs": [
        {
          "output_type": "stream",
          "name": "stdout",
          "text": [
            "Starting at city 0: Tour = [0, 1, 4, 2, 3, 0], Total Distance = 28\n",
            "Starting at city 1: Tour = [1, 0, 4, 2, 3, 1], Total Distance = 26\n",
            "Starting at city 2: Tour = [2, 4, 1, 0, 3, 2], Total Distance = 28\n",
            "Starting at city 3: Tour = [3, 1, 0, 4, 2, 3], Total Distance = 26\n",
            "Starting at city 4: Tour = [4, 1, 0, 2, 3, 4], Total Distance = 28\n"
          ]
        }
      ],
      "source": [
        "import numpy as np\n",
        "\n",
        "# Distance matrix for 5 cities (symmetric, 0 on diagonals)\n",
        "# You can update these values as needed\n",
        "distance_matrix = np.array([\n",
        "    [0, 2, 9, 10, 7],\n",
        "    [2, 0, 6, 4, 3],\n",
        "    [9, 6, 0, 8, 5],\n",
        "    [10, 4, 8, 0, 6],\n",
        "    [7, 3, 5, 6, 0]\n",
        "])\n",
        "\n",
        "num_cities = len(distance_matrix)\n",
        "\n",
        "def nearest_neighbor(start_city, dist_matrix):\n",
        "    visited = [start_city]\n",
        "    total_distance = 0\n",
        "    current_city = start_city\n",
        "\n",
        "    while len(visited) < num_cities:\n",
        "        # find the nearest unvisited city\n",
        "        distances = dist_matrix[current_city]\n",
        "        nearest_city = None\n",
        "        nearest_distance = float(\"inf\")\n",
        "\n",
        "        for city in range(num_cities):\n",
        "            if city not in visited and distances[city] < nearest_distance:\n",
        "                nearest_city = city\n",
        "                nearest_distance = distances[city]\n",
        "\n",
        "        visited.append(nearest_city)\n",
        "        total_distance += nearest_distance\n",
        "        current_city = nearest_city\n",
        "\n",
        "    # return to starting city\n",
        "    total_distance += dist_matrix[current_city][start_city]\n",
        "    visited.append(start_city)\n",
        "\n",
        "    return visited, total_distance\n",
        "\n",
        "# Run nearest neighbor starting from each city\n",
        "for start in range(num_cities):\n",
        "    tour, dist = nearest_neighbor(start, distance_matrix)\n",
        "    print(f\"Starting at city {start}: Tour = {tour}, Total Distance = {dist}\")\n"
      ]
    }
  ]
}