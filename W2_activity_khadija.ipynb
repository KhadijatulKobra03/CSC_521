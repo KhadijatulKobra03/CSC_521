{
  "nbformat": 4,
  "nbformat_minor": 0,
  "metadata": {
    "colab": {
      "provenance": [],
      "toc_visible": true,
      "authorship_tag": "ABX9TyMSSgJHkVNzwt3SEU99bfJP",
      "include_colab_link": true
    },
    "kernelspec": {
      "name": "python3",
      "display_name": "Python 3"
    },
    "language_info": {
      "name": "python"
    }
  },
  "cells": [
    {
      "cell_type": "markdown",
      "metadata": {
        "id": "view-in-github",
        "colab_type": "text"
      },
      "source": [
        "<a href=\"https://colab.research.google.com/github/KhadijatulKobra03/CSC_521/blob/main/W2_activity_khadija.ipynb\" target=\"_parent\"><img src=\"https://colab.research.google.com/assets/colab-badge.svg\" alt=\"Open In Colab\"/></a>"
      ]
    },
    {
      "cell_type": "code",
      "execution_count": 15,
      "metadata": {
        "id": "QI9XiIeC0nsq"
      },
      "outputs": [],
      "source": [
        "def comparison_counting_sort(A):\n",
        "  n= len(A)\n",
        "  Count =[0]*n\n",
        "  S= [0]*n\n",
        "\n",
        "  for i in range (n-1):\n",
        "    for j in range(i+1, n):\n",
        "      if A[i]<A[j]:\n",
        "        Count[j]+=1\n",
        "      else:\n",
        "\n",
        "        Count[i] +=1\n",
        "\n",
        "  for i in range(n):\n",
        "    S[Count[i]]=A[i]\n",
        "\n",
        "  return S\n"
      ]
    },
    {
      "cell_type": "code",
      "source": [
        "\n",
        "\n",
        "  #Example usage\n",
        "  A =[60, 35, 81, 14, 47]\n",
        "  print(\"Original:\" ,A)\n",
        "  print(\"Sorted:\", comparison_counting_sort(A))"
      ],
      "metadata": {
        "colab": {
          "base_uri": "https://localhost:8080/"
        },
        "id": "Xwe_jaUD3Fdd",
        "outputId": "d3add68e-c78f-41fa-e65d-8ae7762d756d"
      },
      "execution_count": 16,
      "outputs": [
        {
          "output_type": "stream",
          "name": "stdout",
          "text": [
            "Original: [60, 35, 81, 14, 47]\n",
            "Sorted: [14, 35, 47, 60, 81]\n"
          ]
        }
      ]
    }
  ]
}